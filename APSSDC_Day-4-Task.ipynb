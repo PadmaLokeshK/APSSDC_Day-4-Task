{
 "cells": [
  {
   "cell_type": "markdown",
   "metadata": {},
   "source": [
    "# Task"
   ]
  },
  {
   "cell_type": "markdown",
   "metadata": {},
   "source": [
    "*Take input from user."
   ]
  },
  {
   "cell_type": "markdown",
   "metadata": {},
   "source": [
    "*Check the length of the string even or odd."
   ]
  },
  {
   "cell_type": "markdown",
   "metadata": {},
   "source": [
    "*If the string length is odd access one middle character."
   ]
  },
  {
   "cell_type": "markdown",
   "metadata": {},
   "source": [
    "*If the string length is even access two middle characters."
   ]
  },
  {
   "cell_type": "code",
   "execution_count": 3,
   "metadata": {},
   "outputs": [
    {
     "name": "stdout",
     "output_type": "stream",
     "text": [
      "lokesh\n",
      "Given string:  lokesh\n",
      "Length of the string:  6\n",
      "k e\n"
     ]
    }
   ],
   "source": [
    "string = input()\n",
    "print(\"Given string: \", string)\n",
    "print(\"Length of the string: \",len(string))\n",
    "if len(string)%2 == 0:\n",
    "    print(string[len(string)//2 - 1], string[len(string)//2])\n",
    "else:\n",
    "    print(string[len(string)//2])"
   ]
  },
  {
   "cell_type": "code",
   "execution_count": 4,
   "metadata": {},
   "outputs": [
    {
     "name": "stdout",
     "output_type": "stream",
     "text": [
      "padma\n",
      "Given string:  padma\n",
      "Length of the string:  5\n",
      "d\n"
     ]
    }
   ],
   "source": [
    "string = input()\n",
    "print(\"Given string: \", string)\n",
    "print(\"Length of the string: \",len(string))\n",
    "if len(string)%2 == 0:\n",
    "    print(string[len(string)//2 - 1], string[len(string)//2])\n",
    "else:\n",
    "    print(string[len(string)//2])"
   ]
  },
  {
   "cell_type": "code",
   "execution_count": null,
   "metadata": {},
   "outputs": [],
   "source": []
  }
 ],
 "metadata": {
  "kernelspec": {
   "display_name": "Python 3",
   "language": "python",
   "name": "python3"
  },
  "language_info": {
   "codemirror_mode": {
    "name": "ipython",
    "version": 3
   },
   "file_extension": ".py",
   "mimetype": "text/x-python",
   "name": "python",
   "nbconvert_exporter": "python",
   "pygments_lexer": "ipython3",
   "version": "3.8.5"
  }
 },
 "nbformat": 4,
 "nbformat_minor": 4
}
